{
 "cells": [
  {
   "cell_type": "markdown",
   "metadata": {},
   "source": [
    "# Neural networks with PyTorch\n",
    "\n",
    "### Classification of MNIST Hand-written digits dataset."
   ]
  },
  {
   "cell_type": "code",
   "execution_count": 1,
   "metadata": {},
   "outputs": [],
   "source": [
    "# Import necessary packages\n",
    "\n",
    "%matplotlib inline\n",
    "%config InlineBackend.figure_format = 'retina'\n",
    "\n",
    "import numpy as np\n",
    "import torch\n",
    "\n",
    "import helper\n",
    "\n",
    "import matplotlib.pyplot as plt"
   ]
  },
  {
   "cell_type": "markdown",
   "metadata": {},
   "source": [
    "Here I'll use the MNIST dataset which consists of greyscale handwritten digits. Each image is 28x28 pixels, you can see a sample below\n",
    "\n",
    "<img src='assets/mnist.png'>\n",
    "\n",
    "The goal is to build a neural network that can take one of these images and predict the digit in the image."
   ]
  },
  {
   "cell_type": "code",
   "execution_count": 2,
   "metadata": {},
   "outputs": [],
   "source": [
    "### Run this cell\n",
    "\n",
    "from torchvision import datasets, transforms\n",
    "\n",
    "# Define a transform to normalize the data\n",
    "transform = transforms.Compose([transforms.ToTensor(),\n",
    "                              transforms.Normalize((0.5,), (0.5,)),\n",
    "                              ])\n",
    "\n",
    "# Download and load the training data\n",
    "trainset = datasets.MNIST('~/.pytorch/MNIST_data/', download=True, train=True, transform=transform)\n",
    "trainloader = torch.utils.data.DataLoader(trainset, batch_size=64, shuffle=True)"
   ]
  },
  {
   "cell_type": "code",
   "execution_count": 3,
   "metadata": {},
   "outputs": [
    {
     "name": "stdout",
     "output_type": "stream",
     "text": [
      "<class 'torch.Tensor'>\n",
      "torch.Size([64, 1, 28, 28])\n",
      "torch.Size([64])\n",
      "(64, 28, 28)\n",
      "torch.Size([64, 784])\n"
     ]
    }
   ],
   "source": [
    "dataiter = (iter(trainloader)) #iterator\n",
    "images, labels = dataiter.next()\n",
    "print(type(images))\n",
    "print(images.shape)\n",
    "print(labels.shape)\n",
    "print(images.numpy().squeeze().shape)\n",
    "print(images.view(64,784).shape)"
   ]
  },
  {
   "cell_type": "markdown",
   "metadata": {},
   "source": [
    "This is what one of the images looks like. "
   ]
  },
  {
   "cell_type": "code",
   "execution_count": 4,
   "metadata": {},
   "outputs": [
    {
     "data": {
      "image/png": "[encoded data removed]",
      "text/plain": [
       "<Figure size 432x288 with 1 Axes>"
      ]
     },
     "metadata": {
      "image/png": {
       "height": 248,
       "width": 251
      },
      "needs_background": "light"
     },
     "output_type": "display_data"
    }
   ],
   "source": [
    "plt.imshow(images[1].numpy().squeeze(), cmap='Greys_r');"
   ]
  },
  {
   "cell_type": "code",
   "execution_count": 5,
   "metadata": {},
   "outputs": [
    {
     "name": "stdout",
     "output_type": "stream",
     "text": [
      "tensor([[ -3.3676,   8.4995,  18.9164,   4.6368,  28.9972,   7.5374,  -6.3299,\n",
      "          -0.7054, -13.6949,   6.3832],\n",
      "        [  3.9653,   4.7212,  25.3799,  -4.8809,  30.0711,   0.9841,  -0.7260,\n",
      "           6.2279,  -3.8991,  12.6025],\n",
      "        [  3.6757,   1.7800,   8.1761,   3.3223,  15.2572,  14.9535,  -7.4953,\n",
      "           5.0184,  -5.4482,   6.3943],\n",
      "        [  4.7939,   1.3430,  37.6961,   6.0997,  27.6721,  10.3150,  -3.6747,\n",
      "          16.4514,  -4.9528,   1.1215],\n",
      "        [  2.3772,   5.2133,  14.4149,  -4.6088,  24.1855,  12.4241,  -9.3518,\n",
      "           4.8450,  -1.5909,   3.1999],\n",
      "        [  6.1489,  -2.6226,  31.0366,  -8.4168,  27.5189,   6.1510, -15.1455,\n",
      "          11.8240,  -0.0550,   0.3622],\n",
      "        [  5.2629,   0.7799,  24.5419,   3.4116,  20.9834,  15.2699,  -9.3718,\n",
      "          12.7449,   2.4952,   8.8509],\n",
      "        [ -4.1384,   8.0105,  35.4141,  -5.5734,  27.6873,  15.9771,  -0.8318,\n",
      "           2.8851,  -3.8342,   1.5422],\n",
      "        [  9.7514,  -0.2118,  27.6189,  -0.2660,  19.3024,   9.6526, -12.3237,\n",
      "          -2.3325,  -9.3883,   0.2949],\n",
      "        [  9.5043,  -3.1354,  24.0455,   6.9269,  31.7636,   2.7417, -12.9584,\n",
      "          -1.0059, -16.8642,   0.6346],\n",
      "        [  6.0278,   5.0282,  25.1482,  -0.6065,  27.2072,   8.7194, -12.5140,\n",
      "           3.5313,   1.2175,   0.2502],\n",
      "        [  2.0654,   5.9366,  22.0579, -13.7044,  32.1616,   5.8032,  -1.4818,\n",
      "           8.6492, -11.0585,   7.8977],\n",
      "        [ -3.9017,   2.3053,  27.5729,  -6.1604,  32.2730,   7.0283,  -5.8792,\n",
      "          11.4858, -13.8859,   2.7369],\n",
      "        [  5.7843,  -1.6094,  24.5496,   7.2529,  22.0523,  15.1241,  -7.6084,\n",
      "           7.3894,  -4.3095,  11.0224],\n",
      "        [ 12.4047,  -2.6821,  13.1858,  -0.1007,  19.2954,  15.3188,  -7.5561,\n",
      "           6.7390,   1.1857,   7.0375],\n",
      "        [  3.4312,   2.8562,  20.0371,  -0.3544,  23.5043,   5.2594, -13.8478,\n",
      "           8.8238,  -3.5016,   9.4288],\n",
      "        [  7.4278,  -4.3938,  34.2087, -14.4050,  26.0423,   5.0985, -15.5156,\n",
      "           7.6547,  -2.7572,   7.7645],\n",
      "        [  7.6404,  -0.8043,  24.9005,   3.8188,  29.8494,  14.4060, -13.4235,\n",
      "          10.3495,  -0.2918,   6.5264],\n",
      "        [  5.4183,  -5.7044,  19.9522,   2.6363,  22.5340,  14.7492, -11.4217,\n",
      "           6.7573,   0.8545,  14.8130],\n",
      "        [ 13.5656,  -1.3987,  23.0877,  -9.9183,  21.2227,   7.2593,  -7.7672,\n",
      "           3.5173,  -6.6627,   4.1432],\n",
      "        [  4.6514,   8.4177,  22.4872,   4.1849,  29.5307,   4.8779, -10.2303,\n",
      "          -2.8277,  -3.4531,   4.5360],\n",
      "        [ 11.8060,  -3.9142,   8.6621,  -2.1348,  28.7148,  11.2482, -12.3310,\n",
      "           2.2371,  -2.0406,  11.9374],\n",
      "        [ 14.3136,  -1.1189,  23.4300,  -6.6898,  30.1057,  17.1074, -12.5713,\n",
      "          -0.0803,  -3.1192,  -2.1917],\n",
      "        [ 14.8464,  -3.1204,  29.2554,   4.2290,  31.8922,   2.7434,  -8.5682,\n",
      "           0.4784,  -5.7013,   1.6227],\n",
      "        [  5.5150,   0.4734,  22.0374,   1.6544,  25.7094,   8.8655,  -7.9975,\n",
      "          -0.4352,   2.2850,   8.9484],\n",
      "        [ 10.2588,   1.6250,  13.9869,  -2.4705,  24.1737,   7.1560, -14.0448,\n",
      "           6.5966,  -6.5195,   3.5841],\n",
      "        [  0.7457,   2.4504,  33.3845,  -0.4358,  26.7593,  13.9170,  -1.8264,\n",
      "          -1.0930,  -4.6206,   2.5428],\n",
      "        [  4.3469,   5.3845,  28.9103,   3.0636,  26.6189,   5.4939,  -8.9083,\n",
      "          -2.0749,  -3.8168,  17.2510],\n",
      "        [ 12.2234,   1.9076,  21.9067,  -3.3763,  25.6337,  15.2102, -10.2464,\n",
      "           7.4845,   2.0279,   1.1044],\n",
      "        [  6.3103,   2.1985,  22.5651,   3.1731,  31.3571,   8.3301,  -9.9018,\n",
      "          -0.0686, -11.0991,   8.7258],\n",
      "        [  4.9143,  -0.7691,  25.0701,  -2.4074,  21.8441,   6.8029,  -6.4162,\n",
      "           4.8518,  -1.0102,   8.2967],\n",
      "        [  7.9191,   4.8015,  21.3960,  -4.7025,  27.6724,   5.9436, -10.3380,\n",
      "           1.9954, -10.6023,   9.9651],\n",
      "        [  0.2350,  -2.5513,  19.6395, -17.5590,  24.7899,   6.7391,  -8.8365,\n",
      "          -3.5376, -15.4674,   1.8756],\n",
      "        [  0.6686,   5.9456,  29.4968,  -7.3515,  29.2553,   9.8112, -10.9167,\n",
      "           9.5066,   0.1415,  -5.2074],\n",
      "        [  5.4695,   3.3752,  34.7202,  -5.7922,  28.0825,   6.1503,  -6.0050,\n",
      "           5.5273,   2.6151,   3.1316],\n",
      "        [  6.6182,   9.9844,  20.3083,  -1.7899,  24.2499,   7.3279, -10.9217,\n",
      "          -1.7157,  -5.8234,   3.8999],\n",
      "        [ -4.1853,  -7.2152,  35.8286,   1.5018,  23.9899,  -5.4808, -12.3948,\n",
      "           5.6106,  -8.6299,   2.9277],\n",
      "        [ 15.7870,   7.5158,  26.5389, -11.5022,  22.0331,   8.5833,  -8.9461,\n",
      "           8.6678,  -8.4983,  -3.3131],\n",
      "        [ 15.7093,  -2.0387,  17.7711, -12.2537,  18.6467,  15.3438, -10.7378,\n",
      "           3.1809,  -0.6503,   7.9404],\n",
      "        [  4.6382,   2.3932,  31.3859,  -3.9478,  28.1388,   9.1311,  -2.4136,\n",
      "           7.5856, -10.0862,   3.8311],\n",
      "        [  4.4001,  -4.8492,  28.7768,   4.6563,  15.3049,   2.9443, -16.1662,\n",
      "          -0.4091, -10.0017,   3.3734],\n",
      "        [  5.1914,  10.0109,  26.6519,  -8.9309,  32.7640,  10.9752,   1.4012,\n",
      "           4.4074,  -9.5547,   1.5850],\n",
      "        [ -4.6700,  -1.5342,  20.4762,  -1.7594,  18.5852,   2.9123, -12.9435,\n",
      "          -0.5825,   0.2060,  11.3626],\n",
      "        [  7.1886,  -1.9795,  20.6601,  -4.1216,  22.8776,  -1.4096,  -0.0905,\n",
      "          10.9019,  -9.6078,  15.3370],\n",
      "        [ 11.8960,   1.8419,  23.7324,   0.3011,  28.8829,  15.9764, -11.1578,\n",
      "           2.8353,   1.7087,   7.9258],\n",
      "        [  3.0031,   3.7514,  20.5186,  -0.5778,  25.2368,   7.7990, -14.4043,\n",
      "           5.5475,  -9.0109,   2.8850],\n",
      "        [  2.1304,   3.4632,  20.9028,  -7.7345,  23.1752,   7.6578, -12.9043,\n",
      "          -1.7255,  -0.4706,  -5.4134],\n",
      "        [  2.1836,  -5.4717,  23.5318,   4.3920,  24.0907,  13.5038,  -9.4718,\n",
      "          10.0388,  -3.6707,  19.9072],\n",
      "        [ -2.8068,   7.5487,  17.4552,  -2.8311,  20.5616,   3.4780, -21.9616,\n",
      "           4.9448,  -0.9320,  -6.7441],\n",
      "        [ 11.0638,  -5.1510,  34.7188,  -8.4909,  34.1018,   8.7626,  -3.4555,\n",
      "           8.5735,  -9.0273,  -3.6296],\n",
      "        [  3.3803,  -2.2870,  21.6587,  -2.8376,  26.0380,  16.6114,  -4.1506,\n",
      "          -2.4783,  -8.0180,   6.9672],\n",
      "        [  0.3780,  -0.7009,  22.8587,   6.4105,  29.3450,  16.3127,  -4.6816,\n",
      "           2.5671,  -0.5987,  15.0284],\n",
      "        [ -1.6372,   5.1654,  23.0852,  -9.8725,  26.2094,   4.6730, -16.7498,\n",
      "          -1.7346,  -2.9608,  -0.5904],\n",
      "        [ 12.2312,  -1.5518,  20.3683,  -1.9577,  24.9926,  17.4585,  -4.0455,\n",
      "           3.5191,   0.5713,   8.4878],\n",
      "        [  8.4686,   6.8118,   8.9491,  -6.4189,  20.5529,   3.4907, -13.7343,\n",
      "          -1.8493,   3.8828,   8.2189],\n",
      "        [  6.9485,   0.2444,  21.0481,   1.3494,  28.1707,   9.4829, -13.0743,\n",
      "           7.3268,  -0.6836,   2.2204],\n",
      "        [  9.9036,  -4.1613,  26.6864,  -1.8217,  18.7605,   9.5576, -11.3940,\n",
      "           1.1730,   6.0518,   9.5796],\n",
      "        [  9.4618,  -3.4613,  25.9982,   2.6179,  33.1446,   4.9579,  -9.6133,\n",
      "          13.3410,  -2.6375,   1.6830],\n",
      "        [ 16.1534,  -3.3508,  29.1591,  -4.1561,  32.7612,  10.0343,  -8.7687,\n",
      "           4.2253,  -2.7690,   7.2733],\n",
      "        [ -2.7019,   3.4034,  22.6715,   2.7763,  28.3015,  12.4903,  -9.7620,\n",
      "           0.0423,  -3.8883,   3.6014],\n",
      "        [ 19.2787,  -1.2550,  21.5246,  -0.2178,  23.7715,  -1.2139, -19.3347,\n",
      "           2.4806,  -8.2709,  -1.0021],\n",
      "        [  8.8684,  -0.5624,  32.9711,  -0.4374,  24.9626,  -1.9044, -14.5389,\n",
      "           5.4228,  -1.4465,   6.5008],\n",
      "        [  3.3907,   1.3165,  25.2284,   6.0175,  35.6011,   9.7486,  -2.4473,\n",
      "           4.3289,  -4.5236,   7.7206],\n",
      "        [ 13.0488,  -7.4175,  36.0226,  -9.6939,  33.8618,  -5.0534, -10.2421,\n",
      "          12.0480,  -4.8803,  -1.5423]])\n"
     ]
    }
   ],
   "source": [
    "#weights and biases\n",
    "w1, b1 = torch.randn(784, 256),torch.randn(1, 256)\n",
    "w2, b2 = torch.randn(256, 10), torch.randn(1, 10)\n",
    "\n",
    "#Flattening the images batch\n",
    "#inputs = images.view(images.shape[0], -1)\n",
    "inputs = images.reshape(len(images), -1).squeeze()\n",
    "\n",
    "#Activation function\n",
    "def sigmoid(x):\n",
    "    return 1/(1+ torch.exp(-x))\n",
    "\n",
    "h = sigmoid(torch.mm(inputs, w1) + b1)\n",
    "\n",
    "out = torch.mm(h, w2) + b2 #output of the network, should have shape (64,10)\n",
    "print(out)"
   ]
  },
  {
   "cell_type": "markdown",
   "metadata": {},
   "source": [
    "Implementing the function `softmax` that performs the softmax calculation and returns probability distributions for each example in the batch. "
   ]
  },
  {
   "cell_type": "code",
   "execution_count": 7,
   "metadata": {},
   "outputs": [
    {
     "name": "stdout",
     "output_type": "stream",
     "text": [
      "torch.Size([64, 10])\n",
      "tensor([1.0000, 1.0000, 1.0000, 1.0000, 1.0000, 1.0000, 1.0000, 1.0000, 1.0000,\n",
      "        1.0000, 1.0000, 1.0000, 1.0000, 1.0000, 1.0000, 1.0000, 1.0000, 1.0000,\n",
      "        1.0000, 1.0000, 1.0000, 1.0000, 1.0000, 1.0000, 1.0000, 1.0000, 1.0000,\n",
      "        1.0000, 1.0000, 1.0000, 1.0000, 1.0000, 1.0000, 1.0000, 1.0000, 1.0000,\n",
      "        1.0000, 1.0000, 1.0000, 1.0000, 1.0000, 1.0000, 1.0000, 1.0000, 1.0000,\n",
      "        1.0000, 1.0000, 1.0000, 1.0000, 1.0000, 1.0000, 1.0000, 1.0000, 1.0000,\n",
      "        1.0000, 1.0000, 1.0000, 1.0000, 1.0000, 1.0000, 1.0000, 1.0000, 1.0000,\n",
      "        1.0000])\n"
     ]
    }
   ],
   "source": [
    "def softmax(x):\n",
    "    ## TODO: Implement the softmax function here\n",
    "    return torch.exp(x)/torch.sum(torch.exp(x), dim =1).view(-1, 1)\n",
    "\n",
    "#torch.set_printoptions(precision=10)\n",
    "\n",
    "#print(torch.exp(out))\n",
    "# Here, out should be the output of the network in the previous excercise with shape (64,10)\n",
    "probabilities = softmax(out)\n",
    "\n",
    "# Does it have the right shape? Should be (64, 10)\n",
    "print(probabilities.shape)\n",
    "# Does it sum to 1?\n",
    "print(probabilities.sum(dim=1))"
   ]
  },
  {
   "cell_type": "markdown",
   "metadata": {},
   "source": [
    "## Building networks with PyTorch\n",
    "\n",
    "PyTorch provides a module `nn` that makes building networks much simpler. Here I've built the same one as above with 784 inputs, 256 hidden units, 10 output units and a softmax output."
   ]
  },
  {
   "cell_type": "code",
   "execution_count": 9,
   "metadata": {},
   "outputs": [],
   "source": [
    "from torch import nn"
   ]
  },
  {
   "cell_type": "code",
   "execution_count": 10,
   "metadata": {},
   "outputs": [],
   "source": [
    "class Network(nn.Module):\n",
    "    def __init__(self):\n",
    "        super().__init__()\n",
    "        \n",
    "        # Inputs to hidden layer linear transformation\n",
    "        self.hidden = nn.Linear(784, 256)\n",
    "        # Output layer, 10 units - one for each digit\n",
    "        self.output = nn.Linear(256, 10)\n",
    "        \n",
    "        # Define sigmoid activation and softmax output \n",
    "        self.sigmoid = nn.Sigmoid()\n",
    "        self.softmax = nn.Softmax(dim=1)\n",
    "        \n",
    "    def forward(self, x):\n",
    "        # Pass the input tensor through each of our operations\n",
    "        x = self.hidden(x)\n",
    "        x = self.sigmoid(x)\n",
    "        x = self.output(x)\n",
    "        x = self.softmax(x)\n",
    "        \n",
    "        return x"
   ]
  },
  {
   "cell_type": "code",
   "execution_count": 11,
   "metadata": {
    "scrolled": true
   },
   "outputs": [
    {
     "data": {
      "text/plain": [
       "Network(\n",
       "  (hidden): Linear(in_features=784, out_features=256, bias=True)\n",
       "  (output): Linear(in_features=256, out_features=10, bias=True)\n",
       "  (sigmoid): Sigmoid()\n",
       "  (softmax): Softmax(dim=1)\n",
       ")"
      ]
     },
     "execution_count": 11,
     "metadata": {},
     "output_type": "execute_result"
    }
   ],
   "source": [
    "# Create the network and look at it's text representation\n",
    "model = Network()\n",
    "model"
   ]
  },
  {
   "cell_type": "markdown",
   "metadata": {},
   "source": [
    "We can define the network somewhat more concisely and clearly using the `torch.nn.functional` module. This is the most common way you'll see networks defined as many operations are simple element-wise functions. We normally import this module as `F`, `import torch.nn.functional as F`."
   ]
  },
  {
   "cell_type": "code",
   "execution_count": 13,
   "metadata": {},
   "outputs": [],
   "source": [
    "import torch.nn.functional as F\n",
    "\n",
    "class Network(nn.Module):\n",
    "    def __init__(self):\n",
    "        super().__init__()\n",
    "        # Inputs to hidden layer linear transformation\n",
    "        self.hidden = nn.Linear(784, 256)\n",
    "        # Output layer, 10 units - one for each digit\n",
    "        self.output = nn.Linear(256, 10)\n",
    "        \n",
    "    def forward(self, x):\n",
    "        # Hidden layer with sigmoid activation\n",
    "        x = F.sigmoid(self.hidden(x))\n",
    "        # Output layer with softmax activation\n",
    "        x = F.softmax(self.output(x), dim=1)\n",
    "        \n",
    "        return x"
   ]
  },
  {
   "cell_type": "markdown",
   "metadata": {},
   "source": [
    "### Activation functions\n",
    "\n",
    "So far we've only been looking at the sigmoid activation function, but in general any function can be used as an activation function. The only requirement is that for a network to approximate a non-linear function, the activation functions must be non-linear. Here are a few more examples of common activation functions: Tanh (hyperbolic tangent), and ReLU (rectified linear unit).\n",
    "\n",
    "<img src=\"assets/activation.png\" width=700px>\n",
    "\n",
    "In practice, the ReLU function is used almost exclusively as the activation function for hidden layers."
   ]
  },
  {
   "cell_type": "markdown",
   "metadata": {},
   "source": [
    "### Building a Network\n",
    "\n",
    "A network with 784 input units, a hidden layer with 128 units and a ReLU activation, then a hidden layer with 64 units and a ReLU activation, and finally an output layer with a softmax activation."
   ]
  },
  {
   "cell_type": "code",
   "execution_count": 14,
   "metadata": {
    "scrolled": true
   },
   "outputs": [
    {
     "data": {
      "text/plain": [
       "Network(\n",
       "  (fc1): Linear(in_features=784, out_features=128, bias=True)\n",
       "  (fc2): Linear(in_features=128, out_features=64, bias=True)\n",
       "  (fc3): Linear(in_features=64, out_features=10, bias=True)\n",
       ")"
      ]
     },
     "execution_count": 14,
     "metadata": {},
     "output_type": "execute_result"
    }
   ],
   "source": [
    "## Your solution here\n",
    "\n",
    "class Network(nn.Module):\n",
    "    def __init__(self):\n",
    "        super().__init__()\n",
    "        \n",
    "        self.fc1 = nn.Linear(784, 128) #hidden 1\n",
    "        self.fc2 = nn.Linear(128, 64) #hidden 2\n",
    "        self.fc3 = nn.Linear(64, 10) #output\n",
    "    \n",
    "    def forward(self, x):\n",
    "        x = F.relu(self.fc1(x))\n",
    "        x = F.relu(self.fc2(x))\n",
    "        x = F.softmax(self.fc3(x), 1)\n",
    "        \n",
    "        return x\n",
    "\n",
    "model = Network()\n",
    "model\n"
   ]
  },
  {
   "cell_type": "markdown",
   "metadata": {},
   "source": [
    "### Initializing weights and biases\n",
    "\n",
    "The weights and such are automatically initialized, but it's possible to customize how they are initialized. The weights and biases are tensors attached to the layer we defined, can view them with `model.fc1.weight` for instance."
   ]
  },
  {
   "cell_type": "code",
   "execution_count": 15,
   "metadata": {},
   "outputs": [
    {
     "name": "stdout",
     "output_type": "stream",
     "text": [
      "Parameter containing:\n",
      "tensor([[ 0.0150,  0.0083, -0.0245,  ..., -0.0308,  0.0121,  0.0023],\n",
      "        [ 0.0313,  0.0248, -0.0047,  ..., -0.0198, -0.0356, -0.0023],\n",
      "        [-0.0059,  0.0297, -0.0308,  ..., -0.0009, -0.0290,  0.0297],\n",
      "        ...,\n",
      "        [-0.0031,  0.0131,  0.0140,  ..., -0.0019,  0.0078,  0.0328],\n",
      "        [ 0.0218, -0.0177,  0.0048,  ..., -0.0084,  0.0017,  0.0268],\n",
      "        [-0.0127, -0.0133, -0.0091,  ...,  0.0046, -0.0221,  0.0014]],\n",
      "       requires_grad=True)\n",
      "Parameter containing:\n",
      "tensor([ 0.0115, -0.0125, -0.0055,  0.0057,  0.0038, -0.0141, -0.0155, -0.0089,\n",
      "        -0.0078, -0.0107, -0.0022, -0.0285, -0.0286, -0.0238,  0.0063, -0.0093,\n",
      "         0.0258,  0.0165,  0.0237, -0.0063,  0.0290, -0.0260, -0.0292,  0.0293,\n",
      "        -0.0193, -0.0087,  0.0294,  0.0104, -0.0354, -0.0306, -0.0029,  0.0215,\n",
      "         0.0192, -0.0227,  0.0218,  0.0331, -0.0147, -0.0171, -0.0180, -0.0258,\n",
      "        -0.0280,  0.0298,  0.0332,  0.0340, -0.0067, -0.0305, -0.0039,  0.0339,\n",
      "        -0.0085, -0.0076,  0.0172, -0.0030, -0.0257, -0.0289, -0.0164, -0.0065,\n",
      "        -0.0266, -0.0064,  0.0176,  0.0344, -0.0194,  0.0228, -0.0249, -0.0174,\n",
      "         0.0346, -0.0243,  0.0043,  0.0014,  0.0317, -0.0295,  0.0006,  0.0320,\n",
      "         0.0148, -0.0155, -0.0161, -0.0088,  0.0217, -0.0075,  0.0037,  0.0228,\n",
      "         0.0090, -0.0324,  0.0073,  0.0260, -0.0295, -0.0005,  0.0017,  0.0156,\n",
      "        -0.0255, -0.0120, -0.0071,  0.0077,  0.0333,  0.0117, -0.0014,  0.0146,\n",
      "         0.0110,  0.0052, -0.0016, -0.0188,  0.0051,  0.0228, -0.0294, -0.0117,\n",
      "         0.0065,  0.0240, -0.0111,  0.0328,  0.0173, -0.0324,  0.0118,  0.0037,\n",
      "         0.0327, -0.0330, -0.0090, -0.0229,  0.0307, -0.0187, -0.0250,  0.0352,\n",
      "        -0.0071,  0.0053,  0.0062, -0.0194,  0.0104,  0.0034,  0.0209, -0.0221],\n",
      "       requires_grad=True)\n"
     ]
    }
   ],
   "source": [
    "print(model.fc1.weight)\n",
    "print(model.fc1.bias)"
   ]
  },
  {
   "cell_type": "markdown",
   "metadata": {},
   "source": [
    "For custom initialization, we want to modify these tensors in place. These are actually autograd *Variables*, so we need to get back the actual tensors with `model.fc1.weight.data`. Once we have the tensors, we can fill them with zeros (for biases) or random normal values."
   ]
  },
  {
   "cell_type": "code",
   "execution_count": 16,
   "metadata": {},
   "outputs": [
    {
     "data": {
      "text/plain": [
       "tensor([0., 0., 0., 0., 0., 0., 0., 0., 0., 0., 0., 0., 0., 0., 0., 0., 0., 0., 0., 0., 0., 0., 0., 0.,\n",
       "        0., 0., 0., 0., 0., 0., 0., 0., 0., 0., 0., 0., 0., 0., 0., 0., 0., 0., 0., 0., 0., 0., 0., 0.,\n",
       "        0., 0., 0., 0., 0., 0., 0., 0., 0., 0., 0., 0., 0., 0., 0., 0., 0., 0., 0., 0., 0., 0., 0., 0.,\n",
       "        0., 0., 0., 0., 0., 0., 0., 0., 0., 0., 0., 0., 0., 0., 0., 0., 0., 0., 0., 0., 0., 0., 0., 0.,\n",
       "        0., 0., 0., 0., 0., 0., 0., 0., 0., 0., 0., 0., 0., 0., 0., 0., 0., 0., 0., 0., 0., 0., 0., 0.,\n",
       "        0., 0., 0., 0., 0., 0., 0., 0.])"
      ]
     },
     "execution_count": 16,
     "metadata": {},
     "output_type": "execute_result"
    }
   ],
   "source": [
    "# Set biases to all zeros\n",
    "model.fc1.bias.data.fill_(0)"
   ]
  },
  {
   "cell_type": "code",
   "execution_count": 17,
   "metadata": {},
   "outputs": [
    {
     "data": {
      "text/plain": [
       "tensor([[ 0.0138,  0.0044,  0.0040,  ...,  0.0106,  0.0024, -0.0039],\n",
       "        [ 0.0058,  0.0244, -0.0004,  ...,  0.0004,  0.0055, -0.0025],\n",
       "        [ 0.0035,  0.0057, -0.0213,  ...,  0.0186, -0.0080, -0.0108],\n",
       "        ...,\n",
       "        [ 0.0073,  0.0004,  0.0011,  ..., -0.0020, -0.0027, -0.0132],\n",
       "        [ 0.0166, -0.0157,  0.0094,  ...,  0.0007,  0.0128,  0.0028],\n",
       "        [-0.0022,  0.0131,  0.0036,  ..., -0.0189, -0.0010,  0.0173]])"
      ]
     },
     "execution_count": 17,
     "metadata": {},
     "output_type": "execute_result"
    }
   ],
   "source": [
    "# sample from random normal with standard dev = 0.01\n",
    "model.fc1.weight.data.normal_(std=0.01)"
   ]
  },
  {
   "cell_type": "markdown",
   "metadata": {},
   "source": [
    "### Forward pass\n",
    "\n",
    "Now that we have a network, let's see what happens when we pass in an image."
   ]
  },
  {
   "cell_type": "code",
   "execution_count": 19,
   "metadata": {},
   "outputs": [
    {
     "name": "stdout",
     "output_type": "stream",
     "text": [
      "torch.Size([1, 784])\n"
     ]
    },
    {
     "data": {
      "image/png": "[encoded data removed]",
      "text/plain": [
       "<Figure size 432x648 with 2 Axes>"
      ]
     },
     "metadata": {
      "image/png": {
       "height": 235,
       "width": 424
      },
      "needs_background": "light"
     },
     "output_type": "display_data"
    }
   ],
   "source": [
    "# Grab some data \n",
    "dataiter = iter(trainloader)\n",
    "images, labels = dataiter.next()\n",
    "\n",
    "# Resize images into a 1D vector, new shape is (batch size, color channels, image pixels) \n",
    "images.resize_(64, 1, 784)\n",
    "'''important''' # or images.resize_(images.shape[0], 1, 784) to automatically get batch size\n",
    "\n",
    "# Forward pass through the network\n",
    "img_idx = 0\n",
    "ps = model.forward(images[img_idx,:])\n",
    "\n",
    "img = images[img_idx]\n",
    "helper.view_classify(img.view(1, 28, 28), ps)\n",
    "print(images[img_idx,:].shape)"
   ]
  },
  {
   "cell_type": "markdown",
   "metadata": {},
   "source": [
    "As you can see above, our network has basically no idea what this digit is. It's because we haven't trained it yet, all the weights are random!\n",
    "\n",
    "### Using `nn.Sequential`\n",
    "\n",
    "PyTorch provides a convenient way to build networks like this where a tensor is passed sequentially through operations, `nn.Sequential` ([documentation](https://pytorch.org/docs/master/nn.html#torch.nn.Sequential)). Using this to build the equivalent network:"
   ]
  },
  {
   "cell_type": "code",
   "execution_count": 20,
   "metadata": {},
   "outputs": [
    {
     "name": "stdout",
     "output_type": "stream",
     "text": [
      "Sequential(\n",
      "  (0): Linear(in_features=784, out_features=128, bias=True)\n",
      "  (1): ReLU()\n",
      "  (2): Linear(in_features=128, out_features=64, bias=True)\n",
      "  (3): ReLU()\n",
      "  (4): Linear(in_features=64, out_features=10, bias=True)\n",
      "  (5): Softmax(dim=1)\n",
      ")\n"
     ]
    },
    {
     "data": {
      "image/png": "[encoded data removed]",
      "text/plain": [
       "<Figure size 432x648 with 2 Axes>"
      ]
     },
     "metadata": {
      "image/png": {
       "height": 235,
       "width": 424
      },
      "needs_background": "light"
     },
     "output_type": "display_data"
    }
   ],
   "source": [
    "# Hyperparameters for our network\n",
    "input_size = 784\n",
    "hidden_sizes = [128, 64]\n",
    "output_size = 10\n",
    "\n",
    "# Build a feed-forward network\n",
    "model = nn.Sequential(nn.Linear(input_size, hidden_sizes[0]),\n",
    "                      nn.ReLU(),\n",
    "                      nn.Linear(hidden_sizes[0], hidden_sizes[1]),\n",
    "                      nn.ReLU(),\n",
    "                      nn.Linear(hidden_sizes[1], output_size),\n",
    "                      nn.Softmax(dim=1))\n",
    "print(model)\n",
    "\n",
    "# Forward pass through the network and display output\n",
    "images, labels = next(iter(trainloader))\n",
    "images.resize_(images.shape[0], 1, 784)\n",
    "ps = model.forward(images[0,:])\n",
    "helper.view_classify(images[0].view(1, 28, 28), ps)"
   ]
  },
  {
   "cell_type": "markdown",
   "metadata": {},
   "source": [
    "Here our model is the same as before: 784 input units, a hidden layer with 128 units, ReLU activation, 64 unit hidden layer, another ReLU, then the output layer with 10 units, and the softmax output.\n",
    "\n",
    "The operations are available by passing in the appropriate index. For example, if you want to get first Linear operation and look at the weights, you'd use `model[0]`."
   ]
  },
  {
   "cell_type": "code",
   "execution_count": 21,
   "metadata": {},
   "outputs": [
    {
     "name": "stdout",
     "output_type": "stream",
     "text": [
      "Linear(in_features=784, out_features=128, bias=True)\n"
     ]
    },
    {
     "data": {
      "text/plain": [
       "Parameter containing:\n",
       "tensor([[ 0.0139, -0.0282,  0.0144,  ...,  0.0074,  0.0137, -0.0198],\n",
       "        [-0.0178,  0.0121, -0.0282,  ...,  0.0011, -0.0077,  0.0217],\n",
       "        [ 0.0100, -0.0078, -0.0039,  ..., -0.0027, -0.0215, -0.0172],\n",
       "        ...,\n",
       "        [-0.0027,  0.0092, -0.0328,  ..., -0.0023,  0.0330, -0.0114],\n",
       "        [ 0.0264,  0.0075, -0.0325,  ...,  0.0009,  0.0202,  0.0142],\n",
       "        [ 0.0040, -0.0125, -0.0041,  ...,  0.0338, -0.0341,  0.0289]],\n",
       "       requires_grad=True)"
      ]
     },
     "execution_count": 21,
     "metadata": {},
     "output_type": "execute_result"
    }
   ],
   "source": [
    "print(model[0])\n",
    "model[0].weight"
   ]
  },
  {
   "cell_type": "markdown",
   "metadata": {},
   "source": [
    "You can also pass in an `OrderedDict` to name the individual layers and operations, instead of using incremental integers. Note that dictionary keys must be unique, so _each operation must have a different name_."
   ]
  },
  {
   "cell_type": "code",
   "execution_count": 22,
   "metadata": {},
   "outputs": [
    {
     "data": {
      "text/plain": [
       "Sequential(\n",
       "  (fc1): Linear(in_features=784, out_features=128, bias=True)\n",
       "  (relu1): ReLU()\n",
       "  (fc2): Linear(in_features=128, out_features=64, bias=True)\n",
       "  (relu2): ReLU()\n",
       "  (output): Linear(in_features=64, out_features=10, bias=True)\n",
       "  (softmax): Softmax(dim=1)\n",
       ")"
      ]
     },
     "execution_count": 22,
     "metadata": {},
     "output_type": "execute_result"
    }
   ],
   "source": [
    "from collections import OrderedDict\n",
    "model = nn.Sequential(OrderedDict([\n",
    "                      ('fc1', nn.Linear(input_size, hidden_sizes[0])),\n",
    "                      ('relu1', nn.ReLU()),\n",
    "                      ('fc2', nn.Linear(hidden_sizes[0], hidden_sizes[1])),\n",
    "                      ('relu2', nn.ReLU()),\n",
    "                      ('output', nn.Linear(hidden_sizes[1], output_size)),\n",
    "                      ('softmax', nn.Softmax(dim=1))]))\n",
    "model"
   ]
  },
  {
   "cell_type": "markdown",
   "metadata": {},
   "source": [
    "Now you can access layers either by integer or the name"
   ]
  },
  {
   "cell_type": "code",
   "execution_count": 23,
   "metadata": {},
   "outputs": [
    {
     "name": "stdout",
     "output_type": "stream",
     "text": [
      "Linear(in_features=784, out_features=128, bias=True)\n",
      "Linear(in_features=784, out_features=128, bias=True)\n"
     ]
    }
   ],
   "source": [
    "print(model[0])\n",
    "print(model.fc1)"
   ]
  },
  {
   "cell_type": "markdown",
   "metadata": {},
   "source": [
    "In the next notebook, we'll see how we can train a neural network to accuractly predict the numbers appearing in the MNIST images."
   ]
  }
 ],
 "metadata": {
  "kernelspec": {
   "display_name": "Python 3",
   "language": "python",
   "name": "python3"
  },
  "language_info": {
   "codemirror_mode": {
    "name": "ipython",
    "version": 3
   },
   "file_extension": ".py",
   "mimetype": "text/x-python",
   "name": "python",
   "nbconvert_exporter": "python",
   "pygments_lexer": "ipython3",
   "version": "3.7.4"
  }
 },
 "nbformat": 4,
 "nbformat_minor": 2
}
